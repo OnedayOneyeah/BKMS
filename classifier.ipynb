{
 "cells": [
  {
   "cell_type": "markdown",
   "metadata": {},
   "source": [
    "### Classifier\n",
    "- similarity score 1: diary textual embedding - lyrics embedding\n",
    "- similarity score 2: lyrics emotion score - diary emotion score\n",
    "- supplementary score: music feature (0,1) - diary emotion score(→0,1 mapped) if same ⇒ bonus otherwise -)\n",
    "- total score = similarity score 1+ similarity score 2 - supplmentary score"
   ]
  },
  {
   "cell_type": "code",
   "execution_count": null,
   "metadata": {},
   "outputs": [],
   "source": [
    "import pinecone\n",
    "\n",
    "class Classifier:\n",
    "    def __init__(self, pinecone_db_index_name: str):\n",
    "        \n",
    "        API_KEY = \"12dfbe87-05b3-4243-bb22-e69d329f18ed\"\n",
    "        ENVIRONMENT = \"gcp-starter\"\n",
    "        pinecone.init(api_key = API_KEY, environment = ENVIRONMENT)\n",
    "\n",
    "        self.pinecone_db = pinecone.Index(pinecone_db_index_name) # Access the data through 'pinecone_db' object\n",
    "        self.total_score = 0.0\n",
    "    \n",
    "    def compute_s1(self, diary_embedding, lyrics_embedding, max_k = 100, include_values = False): # d: 384\n",
    "        '''\n",
    "        compute similarity score (1) between diary textual embedding and lyrics embedding.\n",
    "        The dimension of both embeddings is 384.\n",
    "        '''\n",
    "\n",
    "        # Retrieve\n",
    "        s1 = self.pinecone_db.query(\n",
    "        vector=diary_embedding,\n",
    "        top_k=max_k,\n",
    "        include_values = include_values\n",
    "        )['matches'] # [{id,score,value}, {id,score,value}...]\n",
    "\n",
    "        return s1\n",
    "        \n",
    "    def compute_s2(self, diary_emotion_score, lyrics_emotion_score, max_k = 100, include_values = False): # d: 7\n",
    "        '''\n",
    "        compute similarity score (2) between diary emotion score and lyrics emotion score.\n",
    "        The dimension of both scores is 7.\n",
    "        '''\n",
    "        s2 = self.pinecone_db.query(\n",
    "            vector=diary_emotion_score,\n",
    "            top_k = max_k,\n",
    "            include_values = include_values\n",
    "        )['matches'] # [{id,score,value}, {id,score,value}...]\n",
    "        \n",
    "        return s2\n",
    "\n",
    "    def compute_ss(diary_emotion_score_mapped, music_feature_emotion_score):\n",
    "        '''\n",
    "        \n",
    "        '''\n",
    "        pass\n",
    "    def \n",
    "    \n",
    "    \n",
    "\n"
   ]
  },
  {
   "cell_type": "code",
   "execution_count": null,
   "metadata": {},
   "outputs": [],
   "source": [
    "# similarity score 2:"
   ]
  },
  {
   "cell_type": "code",
   "execution_count": null,
   "metadata": {},
   "outputs": [],
   "source": [
    "# supplementary score"
   ]
  },
  {
   "cell_type": "code",
   "execution_count": null,
   "metadata": {},
   "outputs": [],
   "source": [
    "# total score"
   ]
  },
  {
   "cell_type": "code",
   "execution_count": null,
   "metadata": {},
   "outputs": [],
   "source": [
    "# classifier"
   ]
  }
 ],
 "metadata": {
  "interpreter": {
   "hash": "1367c8c4473d3265912c8d7e3cdd5911d2a91ae2eeda60059a3a8b4e60ae8f13"
  },
  "kernelspec": {
   "display_name": "Python 3.8.18 ('BKMS')",
   "language": "python",
   "name": "python3"
  },
  "language_info": {
   "name": "python",
   "version": "3.8.18"
  },
  "orig_nbformat": 4
 },
 "nbformat": 4,
 "nbformat_minor": 2
}
