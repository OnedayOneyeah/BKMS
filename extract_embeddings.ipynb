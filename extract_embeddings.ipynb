{
 "cells": [
  {
   "cell_type": "markdown",
   "metadata": {},
   "source": [
    "### Extract Lyrics Embeddings"
   ]
  },
  {
   "cell_type": "code",
   "execution_count": 4,
   "metadata": {},
   "outputs": [
    {
     "name": "stderr",
     "output_type": "stream",
     "text": [
      "/Users/chloe/opt/miniconda3/envs/BKMS/lib/python3.8/site-packages/tqdm/auto.py:21: TqdmWarning: IProgress not found. Please update jupyter and ipywidgets. See https://ipywidgets.readthedocs.io/en/stable/user_install.html\n",
      "  from .autonotebook import tqdm as notebook_tqdm\n"
     ]
    }
   ],
   "source": [
    "import pandas as pd\n",
    "import numpy as np\n",
    "from transformers import AutoTokenizer\n",
    "from sentence_transformers import SentenceTransformer\n",
    "import scipy as sp"
   ]
  },
  {
   "cell_type": "code",
   "execution_count": 6,
   "metadata": {},
   "outputs": [],
   "source": [
    "# import dataset\n",
    "data = pd.read_csv('./spotify_data.csv', index_col=[0])\n",
    "lyrics_data = pd.DataFrame(data['lyrics'])\n",
    "lyrics_data['embedding'] = ''\n",
    "lyrics_data['lyrics'] = lyrics_data['lyrics'].apply(lambda e: e.replace('\"',''))"
   ]
  },
  {
   "cell_type": "code",
   "execution_count": 7,
   "metadata": {},
   "outputs": [
    {
     "name": "stderr",
     "output_type": "stream",
     "text": [
      "Some weights of RobertaModel were not initialized from the model checkpoint at j-hartmann/emotion-english-distilroberta-base and are newly initialized: ['roberta.pooler.dense.weight', 'roberta.pooler.dense.bias']\n",
      "You should probably TRAIN this model on a down-stream task to be able to use it for predictions and inference.\n",
      "Token indices sequence length is longer than the specified maximum sequence length for this model (674 > 512). Running this sequence through the model will result in indexing errors\n"
     ]
    },
    {
     "data": {
      "text/html": [
       "<div>\n",
       "<style scoped>\n",
       "    .dataframe tbody tr th:only-of-type {\n",
       "        vertical-align: middle;\n",
       "    }\n",
       "\n",
       "    .dataframe tbody tr th {\n",
       "        vertical-align: top;\n",
       "    }\n",
       "\n",
       "    .dataframe thead th {\n",
       "        text-align: right;\n",
       "    }\n",
       "</style>\n",
       "<table border=\"1\" class=\"dataframe\">\n",
       "  <thead>\n",
       "    <tr style=\"text-align: right;\">\n",
       "      <th></th>\n",
       "      <th>lyrics</th>\n",
       "      <th>embedding</th>\n",
       "    </tr>\n",
       "  </thead>\n",
       "  <tbody>\n",
       "    <tr>\n",
       "      <th>160</th>\n",
       "      <td>Aah Aah The games you played were never fun Yo...</td>\n",
       "      <td>[-0.13932583, 0.12747765, 0.2656628, 0.2385701...</td>\n",
       "    </tr>\n",
       "    <tr>\n",
       "      <th>445</th>\n",
       "      <td>The lights go out and I can't be saved Tides t...</td>\n",
       "      <td>[-0.4183085, 0.15299061, 0.048193373, 0.524825...</td>\n",
       "    </tr>\n",
       "    <tr>\n",
       "      <th>763</th>\n",
       "      <td>'Cause you're a sky, 'cause you're a sky full ...</td>\n",
       "      <td>[0.0012021133, -0.038288224, -0.2541366, 0.362...</td>\n",
       "    </tr>\n",
       "    <tr>\n",
       "      <th>856</th>\n",
       "      <td>I will not make the same mistakes that you did...</td>\n",
       "      <td>[-0.2938952, -0.06864088, 0.14853874, 0.564785...</td>\n",
       "    </tr>\n",
       "    <tr>\n",
       "      <th>1169</th>\n",
       "      <td>Heyy Heeey Heey Your lipstick stains On the fr...</td>\n",
       "      <td>[0.0226809, 0.05377083, -0.027528005, 0.462929...</td>\n",
       "    </tr>\n",
       "    <tr>\n",
       "      <th>...</th>\n",
       "      <td>...</td>\n",
       "      <td>...</td>\n",
       "    </tr>\n",
       "    <tr>\n",
       "      <th>16203</th>\n",
       "      <td>Yeah, you! Yeah, you! I used to wanna be Livin...</td>\n",
       "      <td>[-0.16977464, 0.10209923, -0.25834057, 0.28879...</td>\n",
       "    </tr>\n",
       "    <tr>\n",
       "      <th>16284</th>\n",
       "      <td>If you don't wanna see me Did a full 180, craz...</td>\n",
       "      <td>[-0.43178084, -0.4026616, -0.07043896, 0.31529...</td>\n",
       "    </tr>\n",
       "    <tr>\n",
       "      <th>16771</th>\n",
       "      <td>Nah, nah, nah Cake by the ocean Oh, no See you...</td>\n",
       "      <td>[-0.14135475, 0.09500975, -0.38598028, 0.28835...</td>\n",
       "    </tr>\n",
       "    <tr>\n",
       "      <th>17046</th>\n",
       "      <td>Come on, come on, turn the radio on It's Frida...</td>\n",
       "      <td>[-0.12562634, -0.2382564, -0.23705368, 0.41674...</td>\n",
       "    </tr>\n",
       "    <tr>\n",
       "      <th>18402</th>\n",
       "      <td>Clock strikes upon the hour And the sun begins...</td>\n",
       "      <td>[-0.034219168, -0.19440936, -0.104630515, 0.63...</td>\n",
       "    </tr>\n",
       "  </tbody>\n",
       "</table>\n",
       "<p>317 rows × 2 columns</p>\n",
       "</div>"
      ],
      "text/plain": [
       "                                                  lyrics  \\\n",
       "160    Aah Aah The games you played were never fun Yo...   \n",
       "445    The lights go out and I can't be saved Tides t...   \n",
       "763    'Cause you're a sky, 'cause you're a sky full ...   \n",
       "856    I will not make the same mistakes that you did...   \n",
       "1169   Heyy Heeey Heey Your lipstick stains On the fr...   \n",
       "...                                                  ...   \n",
       "16203  Yeah, you! Yeah, you! I used to wanna be Livin...   \n",
       "16284  If you don't wanna see me Did a full 180, craz...   \n",
       "16771  Nah, nah, nah Cake by the ocean Oh, no See you...   \n",
       "17046  Come on, come on, turn the radio on It's Frida...   \n",
       "18402  Clock strikes upon the hour And the sun begins...   \n",
       "\n",
       "                                               embedding  \n",
       "160    [-0.13932583, 0.12747765, 0.2656628, 0.2385701...  \n",
       "445    [-0.4183085, 0.15299061, 0.048193373, 0.524825...  \n",
       "763    [0.0012021133, -0.038288224, -0.2541366, 0.362...  \n",
       "856    [-0.2938952, -0.06864088, 0.14853874, 0.564785...  \n",
       "1169   [0.0226809, 0.05377083, -0.027528005, 0.462929...  \n",
       "...                                                  ...  \n",
       "16203  [-0.16977464, 0.10209923, -0.25834057, 0.28879...  \n",
       "16284  [-0.43178084, -0.4026616, -0.07043896, 0.31529...  \n",
       "16771  [-0.14135475, 0.09500975, -0.38598028, 0.28835...  \n",
       "17046  [-0.12562634, -0.2382564, -0.23705368, 0.41674...  \n",
       "18402  [-0.034219168, -0.19440936, -0.104630515, 0.63...  \n",
       "\n",
       "[317 rows x 2 columns]"
      ]
     },
     "execution_count": 7,
     "metadata": {},
     "output_type": "execute_result"
    }
   ],
   "source": [
    "# define model\n",
    "from transformers import RobertaTokenizer, RobertaModel, RobertaConfig, pipeline\n",
    "import torch\n",
    "\n",
    "config = RobertaConfig.from_pretrained(\"j-hartmann/emotion-english-distilroberta-base\")\n",
    "config.output_hidden_states = True\n",
    "tok = RobertaTokenizer.from_pretrained(\"j-hartmann/emotion-english-distilroberta-base\")\n",
    "model = RobertaModel.from_pretrained(\"j-hartmann/emotion-english-distilroberta-base\", config=config)\n",
    "\n",
    "# extract embedding\n",
    "lyrics_data['embedding'] = lyrics_data['lyrics'].apply(lambda e: np.array(model(torch.tensor([tok.encode(e)[:512]])).pooler_output.squeeze().detach()))\n",
    "\n",
    "# lyrics_data['embedding'] = lyrics_data['lyrics'].apply(lambda e: model(torch.tensor([tok.encode(e)])).pooler_output.squeeze())\n",
    "lyrics_data"
   ]
  },
  {
   "cell_type": "code",
   "execution_count": 11,
   "metadata": {},
   "outputs": [
    {
     "data": {
      "text/plain": [
       "(768,)"
      ]
     },
     "execution_count": 11,
     "metadata": {},
     "output_type": "execute_result"
    }
   ],
   "source": [
    "lyrics_data['embedding'].iloc[0].shape"
   ]
  },
  {
   "cell_type": "code",
   "execution_count": 5,
   "metadata": {},
   "outputs": [],
   "source": [
    "import pickle\n",
    "with open('./lyrics_embedding.pkl', 'wb') as f:\n",
    "    pickle.dump(lyrics_data, f)"
   ]
  },
  {
   "cell_type": "code",
   "execution_count": null,
   "metadata": {},
   "outputs": [],
   "source": []
  }
 ],
 "metadata": {
  "interpreter": {
   "hash": "1367c8c4473d3265912c8d7e3cdd5911d2a91ae2eeda60059a3a8b4e60ae8f13"
  },
  "kernelspec": {
   "display_name": "Python 3.8.18 ('BKMS')",
   "language": "python",
   "name": "python3"
  },
  "language_info": {
   "codemirror_mode": {
    "name": "ipython",
    "version": 3
   },
   "file_extension": ".py",
   "mimetype": "text/x-python",
   "name": "python",
   "nbconvert_exporter": "python",
   "pygments_lexer": "ipython3",
   "version": "3.8.18"
  },
  "orig_nbformat": 4
 },
 "nbformat": 4,
 "nbformat_minor": 2
}
