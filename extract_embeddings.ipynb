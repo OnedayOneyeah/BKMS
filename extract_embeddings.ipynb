{
 "cells": [
  {
   "cell_type": "markdown",
   "metadata": {},
   "source": [
    "### Extract Lyrics Embeddings"
   ]
  },
  {
   "cell_type": "code",
   "execution_count": 2,
   "metadata": {},
   "outputs": [],
   "source": [
    "import pandas as pd\n",
    "import numpy as np\n",
    "from transformers import AutoTokenizer\n",
    "from sentence_transformers import SentenceTransformer\n",
    "import scipy as sp"
   ]
  },
  {
   "cell_type": "code",
   "execution_count": 17,
   "metadata": {},
   "outputs": [],
   "source": [
    "# import dataset\n",
    "data = pd.read_csv('./spotify_data.csv', index_col=[0])\n",
    "lyrics_data = pd.DataFrame(data['lyrics'])\n",
    "lyrics_data['embedding'] = ''"
   ]
  },
  {
   "cell_type": "code",
   "execution_count": 15,
   "metadata": {},
   "outputs": [
    {
     "data": {
      "text/plain": [
       "160          Aah Aah The games you played were never fun Yo...\n",
       "445          The lights go out and I can't be saved Tides t...\n",
       "763          'Cause you're a sky, 'cause you're a sky full ...\n",
       "856          I will not make the same mistakes that you did...\n",
       "1169         Heyy Heeey Heey Your lipstick stains On the fr...\n",
       "                                   ...                        \n",
       "16284        If you don't wanna see me Did a full 180, craz...\n",
       "16771        Nah, nah, nah Cake by the ocean Oh, no See you...\n",
       "17046        Come on, come on, turn the radio on It's Frida...\n",
       "18402        Clock strikes upon the hour And the sun begins...\n",
       "embedding                                                     \n",
       "Name: lyrics, Length: 318, dtype: object"
      ]
     },
     "execution_count": 15,
     "metadata": {},
     "output_type": "execute_result"
    }
   ],
   "source": [
    "lyrics_data"
   ]
  },
  {
   "cell_type": "code",
   "execution_count": 19,
   "metadata": {},
   "outputs": [
    {
     "data": {
      "text/html": [
       "<div>\n",
       "<style scoped>\n",
       "    .dataframe tbody tr th:only-of-type {\n",
       "        vertical-align: middle;\n",
       "    }\n",
       "\n",
       "    .dataframe tbody tr th {\n",
       "        vertical-align: top;\n",
       "    }\n",
       "\n",
       "    .dataframe thead th {\n",
       "        text-align: right;\n",
       "    }\n",
       "</style>\n",
       "<table border=\"1\" class=\"dataframe\">\n",
       "  <thead>\n",
       "    <tr style=\"text-align: right;\">\n",
       "      <th></th>\n",
       "      <th>lyrics</th>\n",
       "      <th>embedding</th>\n",
       "    </tr>\n",
       "  </thead>\n",
       "  <tbody>\n",
       "    <tr>\n",
       "      <th>160</th>\n",
       "      <td>Aah Aah The games you played were never fun Yo...</td>\n",
       "      <td>[-0.057876237, 0.014094057, -0.0038802002, -0....</td>\n",
       "    </tr>\n",
       "    <tr>\n",
       "      <th>445</th>\n",
       "      <td>The lights go out and I can't be saved Tides t...</td>\n",
       "      <td>[0.043968435, 0.0033812, 0.056344982, -0.01610...</td>\n",
       "    </tr>\n",
       "    <tr>\n",
       "      <th>763</th>\n",
       "      <td>'Cause you're a sky, 'cause you're a sky full ...</td>\n",
       "      <td>[-0.041232467, -0.021443496, 0.06120861, -0.02...</td>\n",
       "    </tr>\n",
       "    <tr>\n",
       "      <th>856</th>\n",
       "      <td>I will not make the same mistakes that you did...</td>\n",
       "      <td>[-0.09303109, -0.02796939, 0.033706456, -0.003...</td>\n",
       "    </tr>\n",
       "    <tr>\n",
       "      <th>1169</th>\n",
       "      <td>Heyy Heeey Heey Your lipstick stains On the fr...</td>\n",
       "      <td>[-0.055941347, -0.0352199, 0.040726993, -0.056...</td>\n",
       "    </tr>\n",
       "    <tr>\n",
       "      <th>...</th>\n",
       "      <td>...</td>\n",
       "      <td>...</td>\n",
       "    </tr>\n",
       "    <tr>\n",
       "      <th>16203</th>\n",
       "      <td>Yeah, you! Yeah, you! I used to wanna be Livin...</td>\n",
       "      <td>[-0.07893406, -0.07447552, 0.050695658, -0.006...</td>\n",
       "    </tr>\n",
       "    <tr>\n",
       "      <th>16284</th>\n",
       "      <td>If you don't wanna see me Did a full 180, craz...</td>\n",
       "      <td>[-0.04479932, -0.10902327, 0.07418224, 0.01864...</td>\n",
       "    </tr>\n",
       "    <tr>\n",
       "      <th>16771</th>\n",
       "      <td>Nah, nah, nah Cake by the ocean Oh, no See you...</td>\n",
       "      <td>[-0.09902718, -0.06675105, 0.02859425, -0.0443...</td>\n",
       "    </tr>\n",
       "    <tr>\n",
       "      <th>17046</th>\n",
       "      <td>Come on, come on, turn the radio on It's Frida...</td>\n",
       "      <td>[-0.08326284, 0.0061422116, -0.028874382, -0.0...</td>\n",
       "    </tr>\n",
       "    <tr>\n",
       "      <th>18402</th>\n",
       "      <td>Clock strikes upon the hour And the sun begins...</td>\n",
       "      <td>[-0.11406343, -0.113784865, 0.057889093, 0.006...</td>\n",
       "    </tr>\n",
       "  </tbody>\n",
       "</table>\n",
       "<p>317 rows × 2 columns</p>\n",
       "</div>"
      ],
      "text/plain": [
       "                                                  lyrics  \\\n",
       "160    Aah Aah The games you played were never fun Yo...   \n",
       "445    The lights go out and I can't be saved Tides t...   \n",
       "763    'Cause you're a sky, 'cause you're a sky full ...   \n",
       "856    I will not make the same mistakes that you did...   \n",
       "1169   Heyy Heeey Heey Your lipstick stains On the fr...   \n",
       "...                                                  ...   \n",
       "16203  Yeah, you! Yeah, you! I used to wanna be Livin...   \n",
       "16284  If you don't wanna see me Did a full 180, craz...   \n",
       "16771  Nah, nah, nah Cake by the ocean Oh, no See you...   \n",
       "17046  Come on, come on, turn the radio on It's Frida...   \n",
       "18402  Clock strikes upon the hour And the sun begins...   \n",
       "\n",
       "                                               embedding  \n",
       "160    [-0.057876237, 0.014094057, -0.0038802002, -0....  \n",
       "445    [0.043968435, 0.0033812, 0.056344982, -0.01610...  \n",
       "763    [-0.041232467, -0.021443496, 0.06120861, -0.02...  \n",
       "856    [-0.09303109, -0.02796939, 0.033706456, -0.003...  \n",
       "1169   [-0.055941347, -0.0352199, 0.040726993, -0.056...  \n",
       "...                                                  ...  \n",
       "16203  [-0.07893406, -0.07447552, 0.050695658, -0.006...  \n",
       "16284  [-0.04479932, -0.10902327, 0.07418224, 0.01864...  \n",
       "16771  [-0.09902718, -0.06675105, 0.02859425, -0.0443...  \n",
       "17046  [-0.08326284, 0.0061422116, -0.028874382, -0.0...  \n",
       "18402  [-0.11406343, -0.113784865, 0.057889093, 0.006...  \n",
       "\n",
       "[317 rows x 2 columns]"
      ]
     },
     "execution_count": 19,
     "metadata": {},
     "output_type": "execute_result"
    }
   ],
   "source": [
    "# define model\n",
    "model = SentenceTransformer('sentence-transformers/all-MiniLM-L6-v2')\n",
    "lyrics_data['embedding'] = lyrics_data['lyrics'].apply(lambda e: np.array(model.encode(e)).squeeze())\n",
    "lyrics_data"
   ]
  },
  {
   "cell_type": "code",
   "execution_count": 21,
   "metadata": {},
   "outputs": [],
   "source": [
    "import pickle\n",
    "with open('./lyrics_embedding.pkl', 'wb') as f:\n",
    "    pickle.dump(lyrics_data, f)"
   ]
  }
 ],
 "metadata": {
  "interpreter": {
   "hash": "1367c8c4473d3265912c8d7e3cdd5911d2a91ae2eeda60059a3a8b4e60ae8f13"
  },
  "kernelspec": {
   "display_name": "Python 3.8.18 ('BKMS')",
   "language": "python",
   "name": "python3"
  },
  "language_info": {
   "codemirror_mode": {
    "name": "ipython",
    "version": 3
   },
   "file_extension": ".py",
   "mimetype": "text/x-python",
   "name": "python",
   "nbconvert_exporter": "python",
   "pygments_lexer": "ipython3",
   "version": "3.8.18"
  },
  "orig_nbformat": 4
 },
 "nbformat": 4,
 "nbformat_minor": 2
}
