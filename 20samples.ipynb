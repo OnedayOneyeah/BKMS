{
 "cells": [
  {
   "cell_type": "code",
   "execution_count": 19,
   "metadata": {},
   "outputs": [
    {
     "name": "stdout",
     "output_type": "stream",
     "text": [
      "Your night under the stars with a telescope indicates a moment of introspection and finding perspective in the vastness of the cosmos. This experience seems to have a profound impact on your emotions, offering a sense of humility and awe. Perhaps Starry, Starry Night by Don McLean resonates with the celestial symphony you discovered.\n",
      "    year  month  day  hour  minute  \\\n",
      "0   2023     10   20    18      35   \n",
      "1   2023     10   21    11      30   \n",
      "2   2023     10   22    19      48   \n",
      "3   2023     10   23    14      15   \n",
      "4   2023     10   24     8      55   \n",
      "5   2023     10   25    17      20   \n",
      "6   2023     10   26    19      58   \n",
      "7   2023     10   27    12      42   \n",
      "8   2023     10   28     9      15   \n",
      "9   2023     10   29    21      30   \n",
      "10  2023     10   30    16       3   \n",
      "11  2023     10   31    13      25   \n",
      "12  2023     11    1     8      10   \n",
      "13  2023     11    2    17      55   \n",
      "14  2023     11    3    14      40   \n",
      "15  2023     11    4    11      20   \n",
      "16  2023     11    5    19       8   \n",
      "17  2023     11    6    22      30   \n",
      "18  2023     11    7    16      15   \n",
      "19  2023     11    8     9      48   \n",
      "\n",
      "                                              comment  emotion  \n",
      "0   Today, it sounds like you had a wonderful and ...      joy  \n",
      "1   Participating in the nature preservation event...      joy  \n",
      "2   Your night under the stars with a telescope in...      joy  \n",
      "3   Visiting an art installation that challenges p...  neutral  \n",
      "4   The morning run along the beach, accompanied b...      joy  \n",
      "5   Exploring a new neighborhood and discovering a...      joy  \n",
      "6   Hosting a themed costume party filled with lau...      joy  \n",
      "7   Volunteering at a local animal shelter and fin...      joy  \n",
      "8   The morning photography walk through the park ...      joy  \n",
      "9   The late-night starlit picnic with loved ones ...      joy  \n",
      "10  Attending a community poetry slam where words ...      joy  \n",
      "11  Halloween festivities filled with costumes and...      joy  \n",
      "12  Morning gratitude journaling and acknowledging...      joy  \n",
      "13  Reconnecting with the old hobby of stargazing ...      joy  \n",
      "14  Engaging in an art class to sculpt emotions in...      joy  \n",
      "15  Spending a rainy afternoon writing letters to ...  neutral  \n",
      "16  Hosting a board game night with friends, fille...      joy  \n",
      "17  A late-night poetry reading by candlelight, wh...      joy  \n",
      "18  Visiting a botanical garden and marveling at t...      joy  \n",
      "19  Taking a morning bike ride through the city, w...      joy  \n",
      "(20,)\n"
     ]
    }
   ],
   "source": [
    "import pandas as pd\n",
    "file_path = 'dataset/diary_comment_and_emotion.csv'\n",
    "example = pd.read_csv(file_path, header=0)\n",
    "year = example['year']\n",
    "month = example['month']\n",
    "day = example['day']\n",
    "example['comment'] = example['comment'].str.replace(\"'\", \"\")\n",
    "comment = example['comment']\n",
    "print(comment[2])\n",
    "emotion = example['emotion']\n",
    "\n",
    "print(example)\n",
    "print(year.shape) # (20,)"
   ]
  },
  {
   "cell_type": "code",
   "execution_count": 20,
   "metadata": {},
   "outputs": [],
   "source": [
    "import psycopg2\n",
    "\n",
    "connection_info = \"host=147.47.200.145 dbname=teamdb8 user=team8 password=youngjoon port=34543\"\n",
    "conn = psycopg2.connect(connection_info)\n",
    "\n",
    "# comment 저장\n",
    "try:\n",
    "    cursor = conn.cursor()\n",
    "    for i in range(0, 20):\n",
    "        cursor.execute(f\"\"\"\n",
    "            SELECT id FROM date WHERE year = {year[i]} AND month = {month[i]} AND day = {day[i]};\n",
    "        \"\"\")\n",
    "        result = cursor.fetchone()\n",
    "        if result is not None:\n",
    "            id = result[0]\n",
    "            cursor.execute(f\"\"\"\n",
    "                INSERT INTO comment(id, content) VALUES ({id}, '{comment[i]}');\n",
    "            \"\"\")\n",
    "            cursor.execute(f\"\"\"\n",
    "                INSERT INTO emotion(id, emotion) VALUES ({id}, '{emotion[i]}');\n",
    "            \"\"\")\n",
    "                   \n",
    "    conn.commit()\n",
    "\n",
    "except psycopg2.Error as e:\n",
    "    print(\"DB error: \", e)\n",
    "    conn.rollback()\n",
    "\n",
    "finally:\n",
    "    conn.close()"
   ]
  }
 ],
 "metadata": {
  "kernelspec": {
   "display_name": "base",
   "language": "python",
   "name": "python3"
  },
  "language_info": {
   "codemirror_mode": {
    "name": "ipython",
    "version": 3
   },
   "file_extension": ".py",
   "mimetype": "text/x-python",
   "name": "python",
   "nbconvert_exporter": "python",
   "pygments_lexer": "ipython3",
   "version": "3.11.5"
  }
 },
 "nbformat": 4,
 "nbformat_minor": 2
}
