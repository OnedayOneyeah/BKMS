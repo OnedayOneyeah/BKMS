{
 "cells": [
  {
   "cell_type": "code",
   "execution_count": null,
   "metadata": {},
   "outputs": [],
   "source": [
    "from create_table import create_table, delete_table\n",
    "# delete_table()\n",
    "create_table()"
   ]
  },
  {
   "cell_type": "code",
   "execution_count": 1,
   "metadata": {},
   "outputs": [
    {
     "name": "stdout",
     "output_type": "stream",
     "text": [
      "             timestamp                                            content  \\\n",
      "0  2023-08-01 14:20:00  Excitement fills the air as I embark on a new ...   \n",
      "1  2023-08-02 10:45:00  Rainy morning vibes matched my introspective m...   \n",
      "2  2023-08-03 17:12:00  Unexpected encounter with an old friend bright...   \n",
      "3  2023-08-04 19:30:00  Completed a challenging project at work. Relie...   \n",
      "4  2023-08-05 13:55:00  Nature walk and a picnic—today was a breath of...   \n",
      "..                 ...                                                ...   \n",
      "95 2023-11-04 11:20:00  Rainy afternoon spent writing letters to loved...   \n",
      "96 2023-11-05 19:08:00  Hosted a board game night with friends. Strate...   \n",
      "97 2023-11-06 22:30:00  Late-night poetry reading by candlelight. Vers...   \n",
      "98 2023-11-07 16:15:00  Visited a botanical garden and marveled at the...   \n",
      "99 2023-11-08 09:48:00  Morning bike ride through the city. Each turn ...   \n",
      "\n",
      "    year  month  day  hour  minute  \n",
      "0   2023      8    1    14      20  \n",
      "1   2023      8    2    10      45  \n",
      "2   2023      8    3    17      12  \n",
      "3   2023      8    4    19      30  \n",
      "4   2023      8    5    13      55  \n",
      "..   ...    ...  ...   ...     ...  \n",
      "95  2023     11    4    11      20  \n",
      "96  2023     11    5    19       8  \n",
      "97  2023     11    6    22      30  \n",
      "98  2023     11    7    16      15  \n",
      "99  2023     11    8     9      48  \n",
      "\n",
      "[100 rows x 7 columns]\n"
     ]
    }
   ],
   "source": [
    "import pandas as pd\n",
    "import datetime\n",
    "\n",
    "file_path = 'dataset/diary_content.csv'\n",
    "columns = ['timestamp', 'content']\n",
    "diary = pd.read_csv(file_path, names=columns, header=None)\n",
    "\n",
    "# 전처리\n",
    "diary['timestamp'] = pd.to_datetime(diary['timestamp'])\n",
    "diary['content'] = diary['content'].str.replace(\"’\", \"\")\n",
    "\n",
    "diary['year'] = diary['timestamp'].dt.year.astype('int32')\n",
    "diary['month'] = diary['timestamp'].dt.month.astype('int32')\n",
    "diary['day'] = diary['timestamp'].dt.day.astype('int32')\n",
    "diary['hour'] = diary['timestamp'].dt.hour.astype('int32')\n",
    "diary['minute'] = diary['timestamp'].dt.minute.astype('int32')\n",
    "print(diary)"
   ]
  },
  {
   "cell_type": "code",
   "execution_count": 2,
   "metadata": {},
   "outputs": [],
   "source": [
    "# CSV 파일로 저장\n",
    "selected_columns = ['year', 'month', 'day', 'hour', 'minute', 'content']\n",
    "diary_selected = diary[selected_columns]\n",
    "diary_selected.to_csv('dataset/diary_selected.csv', index=False)"
   ]
  },
  {
   "cell_type": "code",
   "execution_count": 6,
   "metadata": {},
   "outputs": [],
   "source": [
    "# 100개의 diary를 DB에 저장\n",
    "import psycopg2\n",
    "\n",
    "connection_info = \"host=147.47.200.145 dbname=teamdb8 user=team8 password=youngjoon port=34543\"\n",
    "conn = psycopg2.connect(connection_info)\n",
    "\n",
    "try:\n",
    "    cursor = conn.cursor()\n",
    "    \n",
    "    cursor.execute(\"\"\"\n",
    "        SELECT setval('date_id_seq', (SELECT COALESCE(MAX(id), 1) FROM date), false);\n",
    "    \"\"\")\n",
    "\n",
    "    # Insert data into the date table\n",
    "    for i in range(len(diary)):\n",
    "        year = int(diary.loc[i, 'year'])\n",
    "        month = int(diary.loc[i, 'month'])\n",
    "        day = int(diary.loc[i, 'day'])\n",
    "        hour = int(diary.loc[i, 'hour'])\n",
    "        minute = int(diary.loc[i, 'minute'])\n",
    "\n",
    "        cursor.execute(\"\"\"\n",
    "            INSERT INTO date(year, month, day, hour, minute) VALUES (%s, %s, %s, %s, %s) RETURNING id\n",
    "        \"\"\", (year, month, day, hour, minute))\n",
    "        date_id = cursor.fetchone()[0]  # Retrieve the generated id\n",
    "\n",
    "        # Insert data into the diary table\n",
    "        content = str(diary.loc[i, 'content'])\n",
    "        cursor.execute(\"\"\"\n",
    "            INSERT INTO diary(id, content) VALUES (%s, %s)\n",
    "        \"\"\", (date_id, content))\n",
    "\n",
    "    # Commit the changes\n",
    "    conn.commit()\n",
    "\n",
    "except psycopg2.Error as e:\n",
    "    print(\"DB error: \", e)\n",
    "    conn.rollback()\n",
    "\n",
    "finally:\n",
    "    conn.close()"
   ]
  }
 ],
 "metadata": {
  "kernelspec": {
   "display_name": "Python 3 (ipykernel)",
   "language": "python",
   "name": "python3"
  },
  "language_info": {
   "codemirror_mode": {
    "name": "ipython",
    "version": 3
   },
   "file_extension": ".py",
   "mimetype": "text/x-python",
   "name": "python",
   "nbconvert_exporter": "python",
   "pygments_lexer": "ipython3",
   "version": "3.11.5"
  }
 },
 "nbformat": 4,
 "nbformat_minor": 2
}
